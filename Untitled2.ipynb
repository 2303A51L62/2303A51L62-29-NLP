{
  "nbformat": 4,
  "nbformat_minor": 0,
  "metadata": {
    "colab": {
      "provenance": [],
      "authorship_tag": "ABX9TyOIs202QnT6YaNXPNTqOuS9",
      "include_colab_link": true
    },
    "kernelspec": {
      "name": "python3",
      "display_name": "Python 3"
    },
    "language_info": {
      "name": "python"
    }
  },
  "cells": [
    {
      "cell_type": "markdown",
      "metadata": {
        "id": "view-in-github",
        "colab_type": "text"
      },
      "source": [
        "<a href=\"https://colab.research.google.com/github/2303A51L62/2303A51L62-29-NLP/blob/main/Untitled2.ipynb\" target=\"_parent\"><img src=\"https://colab.research.google.com/assets/colab-badge.svg\" alt=\"Open In Colab\"/></a>"
      ]
    },
    {
      "cell_type": "code",
      "execution_count": null,
      "metadata": {
        "id": "LL7aFKDgRibV"
      },
      "outputs": [],
      "source": [
        "import numpy as np\n",
        "import pandas as pd\n",
        "import matplotlib.pyplot as plt\n",
        "from sklearn.preprocessing import MinMaxScaler\n",
        "from keras.models import Sequential\n",
        "from keras.layers import Dense, SimpleRNN\n",
        "from keras.datasets import mnist  # Replace with the actual CO2 dataset if available\n",
        "\n",
        "# Load and preprocess the dataset\n",
        "# Load CO2 data - Assuming a time series dataset similar to MNIST for RNN demonstration purposes\n",
        "(data_train, _), (data_test, _) = mnist.load_data()\n",
        "\n",
        "# Flatten and normalize the dataset\n",
        "data_train = data_train.reshape(-1, 28*28) / 255.0\n",
        "data_test = data_test.reshape(-1, 28*28) / 255.0"
      ]
    }
  ]
}